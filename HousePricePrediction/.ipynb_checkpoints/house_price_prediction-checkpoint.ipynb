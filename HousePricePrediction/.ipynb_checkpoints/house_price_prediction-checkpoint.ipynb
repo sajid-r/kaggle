{
 "cells": [
  {
   "cell_type": "markdown",
   "metadata": {
    "_cell_guid": "e81ee64d-e474-4662-9036-ce23df615199",
    "_uuid": "b6269c0e8f417f82daf093dda8fa0da6d2c57d86"
   },
   "source": [
    "# Introduction\n",
    "**This will be your workspace for the [Machine Learning course](https://www.kaggle.com/learn/machine-learning).**\n",
    "\n",
    "You will need to translate the concepts to work with the data in this notebook, the Iowa data. Each page in the Machine Learning course includes instructions for what code to write at that step in the course.\n",
    "\n",
    "# Write Your Code Below"
   ]
  },
  {
   "cell_type": "code",
   "execution_count": null,
   "metadata": {},
   "outputs": [],
   "source": [
    "print \"Hello\""
   ]
  },
  {
   "cell_type": "code",
   "execution_count": null,
   "metadata": {
    "_cell_guid": "86b26423-563a-4fa1-a595-89e25ff93089",
    "_uuid": "1c728098629e1301643443b1341556a15c089b2b",
    "collapsed": true
   },
   "outputs": [],
   "source": [
    "import pandas as pd\n",
    "\n",
    "main_file_path = '../input/house-prices-advanced-regression-techniques/train.csv' # this is the path to the Iowa data that you will use\n",
    "data = pd.read_csv(main_file_path)\n",
    "\n",
    "print(data.describe())\n",
    "print(data.head())\n",
    "print(data.columns)"
   ]
  },
  {
   "cell_type": "code",
   "execution_count": null,
   "metadata": {
    "_uuid": "c26a29f8bbc6f7f02eb3dfe247e2fa7853ff3aa7",
    "collapsed": true
   },
   "outputs": [],
   "source": [
    "print(data[\"SalePrice\"].describe())\n",
    "print(data[\"SalePrice\"].head())"
   ]
  },
  {
   "cell_type": "code",
   "execution_count": null,
   "metadata": {
    "_uuid": "317201fd9aed3dffb05cf682b44abc513d48c640",
    "collapsed": true
   },
   "outputs": [],
   "source": [
    "two_columns = data[[\"BldgType\",\"SalePrice\"]]\n",
    "two_columns.describe()"
   ]
  },
  {
   "cell_type": "code",
   "execution_count": null,
   "metadata": {
    "_uuid": "0228424b9427c2e5ffaf3c49f47e5e845e4f2fc5",
    "collapsed": true
   },
   "outputs": [],
   "source": [
    "feature_list = [\"LotArea\",\"YearBuilt\",\"1stFlrSF\",\"2ndFlrSF\",\"FullBath\",\"BedroomAbvGr\",\"TotRmsAbvGrd\"]\n",
    "X = data[feature_list]\n",
    "y = data[\"SalePrice\"]\n",
    "X.head()\n",
    "y.head()"
   ]
  },
  {
   "cell_type": "code",
   "execution_count": null,
   "metadata": {
    "_uuid": "829db6a909e7527b3c3983d35d4cb34552d5fcc3",
    "collapsed": true
   },
   "outputs": [],
   "source": [
    "from sklearn.tree import DecisionTreeRegressor as dt\n",
    "\n",
    "iowa_model = dt()\n",
    "iowa_model.fit(X,y)"
   ]
  },
  {
   "cell_type": "code",
   "execution_count": null,
   "metadata": {
    "_uuid": "15ff447f854bc8730b84e838283ca932ee478c44",
    "collapsed": true
   },
   "outputs": [],
   "source": [
    "iowa_model.predict(X.head())"
   ]
  },
  {
   "cell_type": "code",
   "execution_count": null,
   "metadata": {
    "_uuid": "3b47e6aaed2f6dd2f7db194ea2a0d4f0860e1c19",
    "collapsed": true
   },
   "outputs": [],
   "source": [
    "from sklearn.metrics import mean_absolute_error\n",
    "\n",
    "predicted_home_prices = iowa_model.predict(X)\n",
    "mean_absolute_error(y, predicted_home_prices)"
   ]
  },
  {
   "cell_type": "code",
   "execution_count": null,
   "metadata": {
    "_uuid": "b7aba0537a831d78c78d0b89deb093b95ec77700",
    "collapsed": true
   },
   "outputs": [],
   "source": [
    "#split training and validation data using scikit-learns inbuilt function\n",
    "\n",
    "from sklearn.model_selection import train_test_split\n",
    "train_X, val_X, train_y, val_y = train_test_split(X, y,random_state = 0)\n",
    "\n",
    "iowa_model.fit(train_X,train_y)\n",
    "predicted_home_prices = iowa_model.predict(val_X)\n",
    "mean_absolute_error(val_y,predicted_home_prices)"
   ]
  },
  {
   "cell_type": "code",
   "execution_count": null,
   "metadata": {
    "_uuid": "bd6575d906f6db7b85d6a9cd059606ca71c25eb1",
    "collapsed": true
   },
   "outputs": [],
   "source": [
    "def get_mae(max_leaf_nodes, predictors_train, predictors_val, targ_train, targ_val):\n",
    "    model = dt(max_leaf_nodes=max_leaf_nodes, random_state=0)\n",
    "    model.fit(predictors_train, targ_train)\n",
    "    preds_val = model.predict(predictors_val)\n",
    "    mae = mean_absolute_error(targ_val, preds_val)\n",
    "    return(mae)\n",
    "\n",
    "for max_leaf_nodes in [5, 50, 500, 5000]:\n",
    "    my_mae = get_mae(max_leaf_nodes, train_X, val_X, train_y, val_y)\n",
    "    print(\"Max leaf nodes: %d  \\t\\t Mean Absolute Error:  %d\" %(max_leaf_nodes, my_mae))"
   ]
  },
  {
   "cell_type": "code",
   "execution_count": null,
   "metadata": {
    "_uuid": "278d95c0da357b9684cfc5911ec55ac943585741",
    "collapsed": true
   },
   "outputs": [],
   "source": [
    "from sklearn.ensemble import RandomForestRegressor\n",
    "\n",
    "forest_model = RandomForestRegressor()\n",
    "forest_model.fit(train_X, train_y)\n",
    "melb_preds = forest_model.predict(val_X)\n",
    "print(mean_absolute_error(val_y, melb_preds))"
   ]
  },
  {
   "cell_type": "code",
   "execution_count": null,
   "metadata": {
    "_uuid": "2488bd19aacfc5ce13fd0be2f2ef91c740586c3c",
    "collapsed": true
   },
   "outputs": [],
   "source": [
    "test = pd.read_csv('../input/house-prices-advanced-regression-techniques/test.csv')\n",
    "test_features = test[feature_list]\n",
    "predicted_prices = forest_model.predict(test_features)\n",
    "print(predicted_prices)"
   ]
  },
  {
   "cell_type": "code",
   "execution_count": null,
   "metadata": {
    "_uuid": "86964abd49a52f2970fa15d16d9a1551de8b1892",
    "collapsed": true
   },
   "outputs": [],
   "source": [
    "#creat submission file called submission.csv\n",
    "my_submission = pd.DataFrame({'Id': test.Id, 'SalePrice': predicted_prices})\n",
    "my_submission.to_csv('submission.csv', index=False)"
   ]
  },
  {
   "cell_type": "markdown",
   "metadata": {
    "_cell_guid": "06a2e301-f224-40d0-8709-a942b24cd124",
    "_uuid": "64fde43ae8511da761549c42f24eccb5d1039271"
   },
   "source": [
    "\n",
    "**If you have any questions or hit any problems, come to the [Learn Discussion](https://www.kaggle.com/learn-forum) for help. **\n",
    "\n",
    "**Return to [ML Course Index](https://www.kaggle.com/learn/machine-learning)**"
   ]
  },
  {
   "cell_type": "markdown",
   "metadata": {
    "_cell_guid": "895df7f1-dab8-4c54-ab7e-9a865146deac",
    "_uuid": "704e07440d7d4ef7ad3cf25c0a966c000bb8eeef"
   },
   "source": []
  }
 ],
 "metadata": {
  "kernelspec": {
   "display_name": "Python 3",
   "language": "python",
   "name": "python3"
  },
  "language_info": {
   "codemirror_mode": {
    "name": "ipython",
    "version": 3
   },
   "file_extension": ".py",
   "mimetype": "text/x-python",
   "name": "python",
   "nbconvert_exporter": "python",
   "pygments_lexer": "ipython3",
   "version": "3.6.5"
  }
 },
 "nbformat": 4,
 "nbformat_minor": 2
}
